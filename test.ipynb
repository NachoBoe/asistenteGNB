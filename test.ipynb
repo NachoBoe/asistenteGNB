{
 "cells": [
  {
   "cell_type": "code",
   "execution_count": 19,
   "metadata": {},
   "outputs": [],
   "source": [
    "\n",
    "from collections import defaultdict\n",
    "import dill\n",
    "\n",
    "def print_tree(d, indent=0, current_path=\"\", path_wo_content=None):\n",
    "    if path_wo_content is None:\n",
    "        path_wo_content = set()\n",
    "    \n",
    "    lines = []\n",
    "    for key, value in d.items():\n",
    "        full_path = f\"{current_path}/{key}\"\n",
    "        if full_path in path_wo_content:\n",
    "            lines.append('  ' * indent + key + \" (*)\")\n",
    "        else:\n",
    "            lines.append('  ' * indent + key)\n",
    "        if isinstance(value, defaultdict):\n",
    "            lines.extend(print_tree(value, indent + 1, full_path, path_wo_content))\n",
    "    return lines\n",
    "\n",
    "def get_no_cont(contenido_urls):\n",
    "    path_wo_content = []\n",
    "    for result in contenido_urls:\n",
    "        if result[\"content\"].startswith(\"![Image 1: Error]\"):\n",
    "            path_wo_content.append(\"/\" + \"/\".join(result[\"url\"].split(\"/\")[3:]))\n",
    "    return path_wo_content\n",
    "\n",
    "with open('contenido_urls.dill', 'rb') as archivo:\n",
    "    contenido_urls = dill.load(archivo)\n",
    "\n",
    "\n",
    "with open('tree_podado_personas.dill', 'rb') as archivo:\n",
    "    tree_podado_personas = dill.load(archivo)"
   ]
  },
  {
   "cell_type": "code",
   "execution_count": 15,
   "metadata": {},
   "outputs": [
    {
     "data": {
      "text/plain": [
       "['personas',\n",
       " '  tarjetas-de-credito',\n",
       " '    tarjetas-credito-clasica',\n",
       " '    tarjetas-credito-oro-mastercard',\n",
       " '    tarjetas-credito-platinum-visa',\n",
       " '    tarjetas-credito-platinum-mastercard',\n",
       " '    tarjetas-credito-signature',\n",
       " '    tarjetas-credito-oro-visa',\n",
       " '  servicios',\n",
       " '    personalizacion-productos-canales',\n",
       " '    notificacion-de-transacciones',\n",
       " '    cheque-de-gerencia',\n",
       " '    consulta-de-extracto-digital',\n",
       " '    consignacion-nacional',\n",
       " '    pagos-en-linea-pse',\n",
       " '    banca-movil',\n",
       " '    pago-pensionados',\n",
       " '    transferencias-electronicas',\n",
       " '    liquide-y-pague-los-aportes-de-seguridad',\n",
       " '    convenios-de-recaudo',\n",
       " '    pago-impuestos',\n",
       " '    token-digital',\n",
       " '    adquirencia',\n",
       " '    consulta-de-extracto-electronico',\n",
       " '  ahorro-e-inversion',\n",
       " '    cdat',\n",
       " '    cuenta-nomina',\n",
       " '    cuenta-de-ahorros',\n",
       " '    cuenta-pension',\n",
       " '    cdt',\n",
       " '    cuenta-corriente',\n",
       " '  seguros',\n",
       " '    plan-accidentes-personales',\n",
       " '    plan-enfermadades-graves',\n",
       " '    plan-automovil',\n",
       " '    plan-proteccion-residencial',\n",
       " '    plan-vida',\n",
       " '    plan-proteccion-hurto-en-cajero',\n",
       " '  financiacion',\n",
       " '    credito-convenio-inalde',\n",
       " '    procesos-de-cobranzas-y-sus-costos',\n",
       " '    credito-de-consumo',\n",
       " '    cupo-de-sobregiro',\n",
       " '    credito-de-libranza',\n",
       " '    credito-rotativo',\n",
       " '    cartera-ordinaria',\n",
       " '  canales-de-atencion']"
      ]
     },
     "execution_count": 15,
     "metadata": {},
     "output_type": "execute_result"
    }
   ],
   "source": [
    "res = \"\\n\".join(print_tree(tree_podado_personas, path_wo_content=get_no_cont(contenido_urls)))\n",
    "res"
   ]
  },
  {
   "cell_type": "code",
   "execution_count": 17,
   "metadata": {},
   "outputs": [
    {
     "name": "stdout",
     "output_type": "stream",
     "text": [
      "personas\n",
      "  tarjetas-de-credito\n",
      "    tarjetas-credito-clasica\n",
      "    tarjetas-credito-oro-mastercard\n",
      "    tarjetas-credito-platinum-visa\n",
      "    tarjetas-credito-platinum-mastercard\n",
      "    tarjetas-credito-signature\n",
      "    tarjetas-credito-oro-visa\n",
      "  servicios\n",
      "    personalizacion-productos-canales\n",
      "    notificacion-de-transacciones\n",
      "    cheque-de-gerencia\n",
      "    consulta-de-extracto-digital\n",
      "    consignacion-nacional\n",
      "    pagos-en-linea-pse\n",
      "    banca-movil\n",
      "    pago-pensionados\n",
      "    transferencias-electronicas\n",
      "    liquide-y-pague-los-aportes-de-seguridad\n",
      "    convenios-de-recaudo\n",
      "    pago-impuestos\n",
      "    token-digital\n",
      "    adquirencia\n",
      "    consulta-de-extracto-electronico\n",
      "  ahorro-e-inversion\n",
      "    cdat\n",
      "    cuenta-nomina\n",
      "    cuenta-de-ahorros\n",
      "    cuenta-pension\n",
      "    cdt\n",
      "    cuenta-corriente\n",
      "  seguros\n",
      "    plan-accidentes-personales\n",
      "    plan-enfermadades-graves\n",
      "    plan-automovil\n",
      "    plan-proteccion-residencial\n",
      "    plan-vida\n",
      "    plan-proteccion-hurto-en-cajero\n",
      "  financiacion\n",
      "    credito-convenio-inalde\n",
      "    procesos-de-cobranzas-y-sus-costos\n",
      "    credito-de-consumo\n",
      "    cupo-de-sobregiro\n",
      "    credito-de-libranza\n",
      "    credito-rotativo\n",
      "    cartera-ordinaria\n",
      "  canales-de-atencion\n"
     ]
    }
   ],
   "source": [
    "print(\"\\n\".join(res))"
   ]
  }
 ],
 "metadata": {
  "kernelspec": {
   "display_name": "Python 3",
   "language": "python",
   "name": "python3"
  },
  "language_info": {
   "codemirror_mode": {
    "name": "ipython",
    "version": 3
   },
   "file_extension": ".py",
   "mimetype": "text/x-python",
   "name": "python",
   "nbconvert_exporter": "python",
   "pygments_lexer": "ipython3",
   "version": "3.11.7"
  }
 },
 "nbformat": 4,
 "nbformat_minor": 2
}
